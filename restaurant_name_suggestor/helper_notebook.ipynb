{
 "cells": [
  {
   "cell_type": "markdown",
   "metadata": {},
   "source": [
    "### Dependencies"
   ]
  },
  {
   "cell_type": "code",
   "execution_count": 1,
   "metadata": {},
   "outputs": [],
   "source": [
    "import langchain_helper"
   ]
  },
  {
   "cell_type": "code",
   "execution_count": 3,
   "metadata": {},
   "outputs": [],
   "source": [
    "cuisine = \"Indian\"\n",
    "response = langchain_helper.generate_restaurant_name_and_items(cuisine)"
   ]
  },
  {
   "cell_type": "code",
   "execution_count": 4,
   "metadata": {},
   "outputs": [
    {
     "data": {
      "text/plain": [
       "{'cuisine': 'Indian',\n",
       " 'restaurant_name': '\\n\\n\"Maharaja\\'s Palace\"',\n",
       " 'menu_items': '\\n\\n1. Tandoori Chicken\\n2. Lamb Rogan Josh\\n3. Vegetable Biryani\\n4. Butter Chicken\\n5. Palak Paneer\\n6. Naan bread\\n7. Samosas\\n8. Chicken Tikka Masala\\n9. Aloo Gobi\\n10. Mango Lassi\\n11. Dal Makhani\\n12. Malai Kofta\\n13. Chicken Vindaloo\\n14. Vegetable Pakoras\\n15. Mango Chutney\\n16. Gulab Jamun\\n17. Chicken Korma\\n18. Saag Aloo\\n19. Fish Curry\\n20. Paneer Tikka Masala'}"
      ]
     },
     "execution_count": 4,
     "metadata": {},
     "output_type": "execute_result"
    }
   ],
   "source": [
    "response"
   ]
  },
  {
   "cell_type": "code",
   "execution_count": 9,
   "metadata": {},
   "outputs": [
    {
     "name": "stdout",
     "output_type": "stream",
     "text": [
      "Maharaja's Palace\n"
     ]
    }
   ],
   "source": [
    "dirty_string = response['restaurant_name']\n",
    "response['restaurant_name'] = dirty_string.strip().strip('\"').replace(\"\\\\'\", \"'\")\n",
    "print(response['restaurant_name'])"
   ]
  },
  {
   "cell_type": "code",
   "execution_count": 12,
   "metadata": {},
   "outputs": [],
   "source": [
    "# Clean the string\n",
    "cleaned_items = [line.split('. ', 1)[1].strip() for line in response['menu_items'].strip().split('\\n')]\n",
    "\n",
    "response['menu_items'] = ', '.join(cleaned_items)"
   ]
  },
  {
   "cell_type": "code",
   "execution_count": 13,
   "metadata": {},
   "outputs": [
    {
     "data": {
      "text/plain": [
       "'Tandoori Chicken, Lamb Rogan Josh, Vegetable Biryani, Butter Chicken, Palak Paneer, Naan bread, Samosas, Chicken Tikka Masala, Aloo Gobi, Mango Lassi, Dal Makhani, Malai Kofta, Chicken Vindaloo, Vegetable Pakoras, Mango Chutney, Gulab Jamun, Chicken Korma, Saag Aloo, Fish Curry, Paneer Tikka Masala'"
      ]
     },
     "execution_count": 13,
     "metadata": {},
     "output_type": "execute_result"
    }
   ],
   "source": [
    "response['menu_items']"
   ]
  },
  {
   "cell_type": "code",
   "execution_count": null,
   "metadata": {},
   "outputs": [],
   "source": []
  }
 ],
 "metadata": {
  "kernelspec": {
   "display_name": "python_env_3_11",
   "language": "python",
   "name": "python3"
  },
  "language_info": {
   "codemirror_mode": {
    "name": "ipython",
    "version": 3
   },
   "file_extension": ".py",
   "mimetype": "text/x-python",
   "name": "python",
   "nbconvert_exporter": "python",
   "pygments_lexer": "ipython3",
   "version": "3.11.10"
  }
 },
 "nbformat": 4,
 "nbformat_minor": 2
}
